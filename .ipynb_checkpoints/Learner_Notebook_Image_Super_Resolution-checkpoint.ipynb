{
 "cells": [
  {
   "cell_type": "markdown",
   "metadata": {},
   "source": [
    "<a href=\"https://www.rhyme.com\"> <img src=\"https://www.rhyme.com/assets/img/logo-dark.png\" alt=\"Header\" style=\"width: 100px;\"/> </a>\n",
    "<h1 align=center> Image Super Resolution using Autoencoders</h1>"
   ]
  },
  {
   "cell_type": "markdown",
   "metadata": {},
   "source": [
    " "
   ]
  },
  {
   "cell_type": "markdown",
   "metadata": {},
   "source": [
    "<img src=\"images/high_res_v_low_res.jpg\" width=550px>"
   ]
  },
  {
   "cell_type": "markdown",
   "metadata": {},
   "source": [
    "## Task 1: Project Overview and Import Libraries"
   ]
  },
  {
   "cell_type": "code",
   "execution_count": null,
   "metadata": {},
   "outputs": [],
   "source": [
    "import os\n",
    "import re\n",
    "from scipy import ndimage, misc\n",
    "from skimage.transform import resize, rescale\n",
    "from matplotlib import pyplot\n",
    "import matplotlib.pyplot as plt\n",
    "import numpy as np\n",
    "np.random.seed(0)\n",
    "\n",
    "from tensorflow.keras.layers import Input, Dense, Conv2D, MaxPooling2D, Dropout\n",
    "from tensorflow.keras.layers import Conv2DTranspose, UpSampling2D, add\n",
    "from tensorflow.keras.models import Model\n",
    "from tensorflow.keras import regularizers\n",
    "import tensorflow as tf\n",
    "print(tf.__version__)"
   ]
  },
  {
   "cell_type": "code",
   "execution_count": null,
   "metadata": {},
   "outputs": [],
   "source": []
  },
  {
   "cell_type": "markdown",
   "metadata": {},
   "source": [
    "## Task 2: What are Autoencoders?"
   ]
  },
  {
   "cell_type": "markdown",
   "metadata": {},
   "source": [
    "<img src=\"images/autoencoder.jpg\">\n",
    "Credit: Autoencoder Schema by <a href=\"https://blog.keras.io/img/ae/autoencoder_schema.jpg\">Francois Chollet, 2016</a>."
   ]
  },
  {
   "cell_type": "markdown",
   "metadata": {},
   "source": [
    "<h4 align=center>Encoder Architecture</h4>\n",
    "<img src=\"images/encoder.png\" width=450px align=center>"
   ]
  },
  {
   "cell_type": "markdown",
   "metadata": {},
   "source": [
    "## Task 3: Build the Encoder"
   ]
  },
  {
   "cell_type": "code",
   "execution_count": null,
   "metadata": {},
   "outputs": [],
   "source": []
  },
  {
   "cell_type": "code",
   "execution_count": null,
   "metadata": {},
   "outputs": [],
   "source": []
  },
  {
   "cell_type": "markdown",
   "metadata": {},
   "source": [
    "## Task 4: Build the Decoder to Complete the Network"
   ]
  },
  {
   "cell_type": "markdown",
   "metadata": {},
   "source": [
    "<img src=\"images/decoder.png\" width=450px>"
   ]
  },
  {
   "cell_type": "code",
   "execution_count": null,
   "metadata": {},
   "outputs": [],
   "source": []
  },
  {
   "cell_type": "code",
   "execution_count": null,
   "metadata": {},
   "outputs": [],
   "source": []
  },
  {
   "cell_type": "code",
   "execution_count": null,
   "metadata": {},
   "outputs": [],
   "source": []
  },
  {
   "cell_type": "code",
   "execution_count": null,
   "metadata": {},
   "outputs": [],
   "source": []
  },
  {
   "cell_type": "markdown",
   "metadata": {},
   "source": [
    "## Task 5: Create Dataset and Specify Training Routine"
   ]
  },
  {
   "cell_type": "code",
   "execution_count": null,
   "metadata": {
    "scrolled": true
   },
   "outputs": [],
   "source": [
    "def train_batches(just_load_dataset=False):\n",
    "\n",
    "    batches = 256 \n",
    "\n",
    "    batch = 0 \n",
    "    batch_nb = 0 \n",
    "    max_batches = -1 \n",
    "    \n",
    "    ep = 4 \n",
    "\n",
    "    images = []\n",
    "    x_train_n = []\n",
    "    x_train_down = []\n",
    "    \n",
    "    x_train_n2 = [] \n",
    "    x_train_down2 = []\n",
    "    \n",
    "    for root, dirnames, filenames in os.walk(\"/home/rhyme/Desktop/Project/data/cars_train\"):\n",
    "        for filename in filenames:\n",
    "            if re.search(\"\\.(jpg|jpeg|JPEG|png|bmp|tiff)$\", filename):\n",
    "                if batch_nb == max_batches: \n",
    "                    return x_train_n2, x_train_down2\n",
    "                filepath = os.path.join(root, filename)\n",
    "                image = pyplot.imread(filepath)\n",
    "                if len(image.shape) > 2:\n",
    "                        \n",
    "                    image_resized = resize(image, (256, 256))\n",
    "                    x_train_n.append(image_resized)\n",
    "                    x_train_down.append(rescale(rescale(image_resized, 0.5), 2.0))\n",
    "                    batch += 1\n",
    "                    if batch == batches:\n",
    "                        batch_nb += 1\n",
    "\n",
    "                        x_train_n2 = np.array(x_train_n)\n",
    "                        x_train_down2 = np.array(x_train_down)\n",
    "                        \n",
    "                        if just_load_dataset:\n",
    "                            return x_train_n2, x_train_down2\n",
    "                        \n",
    "                        print('Training batch', batch_nb, '(', batches, ')')\n",
    "\n",
    "                        autoencoder.fit(x_train_down2, x_train_n2,\n",
    "                            epochs=ep,\n",
    "                            batch_size=10,\n",
    "                            shuffle=True,\n",
    "                            validation_split=0.15)\n",
    "                    \n",
    "                        x_train_n = []\n",
    "                        x_train_down = []\n",
    "                    \n",
    "                        batch = 0\n",
    "\n",
    "    return x_train_n2, x_train_down2"
   ]
  },
  {
   "cell_type": "code",
   "execution_count": null,
   "metadata": {},
   "outputs": [],
   "source": []
  },
  {
   "cell_type": "markdown",
   "metadata": {},
   "source": [
    "## Task 6: Load the Dataset and Pre-trained Model"
   ]
  },
  {
   "cell_type": "code",
   "execution_count": null,
   "metadata": {},
   "outputs": [],
   "source": []
  },
  {
   "cell_type": "code",
   "execution_count": null,
   "metadata": {},
   "outputs": [],
   "source": []
  },
  {
   "cell_type": "markdown",
   "metadata": {},
   "source": [
    "## Task 7: Model Predictions and Visualizing the Results"
   ]
  },
  {
   "cell_type": "code",
   "execution_count": null,
   "metadata": {},
   "outputs": [],
   "source": []
  },
  {
   "cell_type": "code",
   "execution_count": null,
   "metadata": {},
   "outputs": [],
   "source": []
  },
  {
   "cell_type": "code",
   "execution_count": null,
   "metadata": {},
   "outputs": [],
   "source": []
  },
  {
   "cell_type": "code",
   "execution_count": null,
   "metadata": {},
   "outputs": [],
   "source": []
  },
  {
   "cell_type": "code",
   "execution_count": null,
   "metadata": {},
   "outputs": [],
   "source": []
  },
  {
   "cell_type": "code",
   "execution_count": null,
   "metadata": {},
   "outputs": [],
   "source": []
  },
  {
   "cell_type": "code",
   "execution_count": null,
   "metadata": {},
   "outputs": [],
   "source": []
  }
 ],
 "metadata": {
  "kernelspec": {
   "display_name": "Python 2",
   "language": "python",
   "name": "python2"
  },
  "language_info": {
   "codemirror_mode": {
    "name": "ipython",
    "version": 2
   },
   "file_extension": ".py",
   "mimetype": "text/x-python",
   "name": "python",
   "nbconvert_exporter": "python",
   "pygments_lexer": "ipython2",
   "version": "2.7.17"
  }
 },
 "nbformat": 4,
 "nbformat_minor": 2
}
